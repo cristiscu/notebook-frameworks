{
 "cells":[
  {
   "cell_type":"markdown",
   "source":[
    "# Editor"
   ],
   "attachments":{},
   "metadata":{
    "datalore":{
     "node_id":"Editor",
     "type":"MD",
     "hide_input_from_viewers":false,
     "hide_output_from_viewers":false,
     "sheet_delimiter":true
    }
   }
  },
  {
   "cell_type":"code",
   "source":[
    "discount_value = 10"
   ],
   "execution_count":1,
   "outputs":[],
   "metadata":{
    "datalore":{
     "node_id":"38y7jTgE9cOMt9rAFokr8s",
     "type":"CODE",
     "hide_input_from_viewers":false,
     "hide_output_from_viewers":false,
     "report_properties":{
      "rowId":"xH9IjwIXFxPzaibcMBcLV0",
      "relativeY":0
     }
    }
   }
  },
  {
   "cell_type":"markdown",
   "source":[
    "## Getting Started Quiz – Complete to Get {{discount_value}}% OFF Your Datalore Cloud Subscription\n",
    "\n",
    "Hello and welcome to Datalore!\n",
    "Datalore is a collaborative data science platform developed by JetBrains.\n",
    "Get started right away by running the Python code cell above, then execute this cell, and see how you can **print variables within your Markdown cells**.\n",
    "\n",
    "🧩 **Excited to complete the quiz and help your team save on a Datalore Cloud subscription?**\n",
    "\n",
    "Solve these 8 puzzles and get a discount code to use at checkout: datalore.jetbrains.com\/pricing\/\n",
    "\n",
    "🚨 **Don't delay completing this tutorial, as certain features will be available only during your 14-day Datalore Cloud trial!**\n",
    "\n",
    "Here are the quick links to each puzzle:\n",
    "\n",
    "- [1st 🧩](#Watch-this-2-minute-Datalore-overview-and-get-your-first-piece-of-the-puzzle-🧩)\n",
    "- [2nd 🧩](#Check-dataset-statistics-and-reveal-the-second-piece-of-the-puzzle-🧩)\n",
    "- [3rd 🧩](#Connect-a-database,-run-your-first-SQL-query,-and-reveal-the-third-piece-of-the-puzzle-🧩)\n",
    "- [4th 🧩](#Explore-the-possibilities-of-Datalore-AI-🧩)\n",
    "- [5th 🧩](#Learn-how-to-manage-the-environment-and-explore-installed-packages-to-get-your-fifth-piece-of-the-puzzle🧩)\n",
    "- [6th 🧩 - This one is very easy!](#Learn-about-Datalore's-collaborative-features-and-find-the-sixth-piece-of-the-puzzle-🧩-–-This-one-is-easy!)\n",
    "- [7th 🧩](#Great-job-so-far-on-progressing-through-the-quiz!)\n",
    "- [8th 🧩](#Last-but-not-least,-learn-to-schedule-notebook-and-report-updates-and-explore-computation-options)"
   ],
   "outputs":[
    {
     "data":{
      "application\/datalore_markdown_expressions+json":{
       "expressions":{
        "discount_value":"10"
       }
      }
     },
     "metadata":{},
     "output_type":"display_data"
    }
   ],
   "attachments":{},
   "metadata":{
    "datalore":{
     "node_id":"kCBAR6MjQ8MocOBRfWAnXn",
     "type":"MD",
     "hide_input_from_viewers":false,
     "hide_output_from_viewers":false,
     "report_properties":{
      "rowId":"fioGgJgqPGdmSrtBwqzfQR",
      "relativeY":0
     }
    }
   }
  },
  {
   "cell_type":"markdown",
   "source":[
    "This tutorial is a great place to learn about the essential Datalore features. For more information, you can:\n",
    "- Visit our [Documentation](https:\/\/www.jetbrains.com\/help\/datalore\/datalore-quickstart.html), which includes guides on specific features.\n",
    "- Subscribe to the [Datalore's blog](https:\/\/blog.jetbrains.com\/datalore\/) to receive emails about feature announcements and Datalore tutorials!"
   ],
   "attachments":{},
   "metadata":{
    "datalore":{
     "node_id":"b0PlGeKUN03L4qbop9rwpK",
     "type":"MD",
     "hide_input_from_viewers":false,
     "hide_output_from_viewers":false,
     "report_properties":{
      "rowId":"qdURzLlvTdpLxBKfRjBgDN",
      "relativeY":0
     }
    }
   }
  },
  {
   "cell_type":"markdown",
   "source":[
    "## Watch this 2-minute Datalore overview and get your first piece of the puzzle 🧩\n",
    "\n",
    "Get a quick overview of a complete analysis workflow in Datalore. Follow along as we optimize an investment portfolio and share results with stakeholders.\n",
    "\n",
    "<div align=\"center\"><video width=\"800\" height=\"450\" controls>\n",
    "\n",
    "<source src=\"https:\/\/datalore-samples.s3.eu-west-1.amazonaws.com\/getting-started\/videos-2024\/Master+Datalore+In+2+Minutes+%E2%80%93+Quick+Datalore+Overview.mov\" type=\"video\/mp4\">\n",
    "\n",
    "<\/video><\/div>\n",
    "\n",
    "\n",
    "**Now that you've watched the video, let’s see if you can reveal the first digits in the discount code 🧩:**\n",
    "\n",
    "How many letters are there in the database type that Alena connected to the notebook in her video? Count the letters and enter the number in the cell below:"
   ],
   "attachments":{},
   "metadata":{
    "datalore":{
     "node_id":"sQxnIuCeE0kaOcBWGTyUeh",
     "type":"MD",
     "hide_input_from_viewers":false,
     "hide_output_from_viewers":false,
     "report_properties":{
      "rowId":"3gMacjrwieyvZzOrFfYiCF",
      "relativeY":0
     }
    }
   }
  },
  {
   "cell_type":"code",
   "source":[
    "## Input the first piece of the puzzle within the \"\"\n",
    "\n",
    "part_1 = \"10\""
   ],
   "execution_count":1,
   "outputs":[],
   "metadata":{
    "datalore":{
     "node_id":"ejCnIjwFZ4XRMFmX6NbfcV",
     "type":"CODE",
     "hide_input_from_viewers":false,
     "hide_output_from_viewers":false,
     "report_properties":{
      "rowId":"e07G7pMprpTzm7BNYjyATv",
      "relativeY":0
     }
    }
   }
  },
  {
   "cell_type":"markdown",
   "source":[
    "## Check dataset statistics and reveal the second piece of the puzzle 🧩\n",
    "\n",
    "1. Run the cell below to download and print a dataset. If instead of the *print(data)* command you just specify the variable name *data* at the end of the cell, Datalore will display it as an interactive table.\n",
    "2. Go to the *Statistics* tab and identify the column that contains outliers.\n",
    "3. Get the first letters of both words in the column name. This is the second piece of the puzzle."
   ],
   "attachments":{},
   "metadata":{
    "datalore":{
     "node_id":"lI84rQT2QqxmAhGs1EvRna",
     "type":"MD",
     "hide_input_from_viewers":false,
     "hide_output_from_viewers":false,
     "report_properties":{
      "rowId":"5o14rD57UlzxXgm8V4wz0n",
      "relativeY":0
     }
    }
   }
  },
  {
   "cell_type":"code",
   "source":[
    "import pandas as pd\n",
    "\n",
    "data = pd.read_csv(\"https:\/\/datalore-samples.s3.eu-west-1.amazonaws.com\/getting-started\/cleaned_financial_data.csv\")\n",
    "data.to_csv(\"dataset.csv\")\n",
    "data"
   ],
   "execution_count":2,
   "outputs":[
    {
     "data":{
      "text\/html":[
       "<div>\n",
       "<style scoped>\n",
       "    .dataframe tbody tr th:only-of-type {\n",
       "        vertical-align: middle;\n",
       "    }\n",
       "\n",
       "    .dataframe tbody tr th {\n",
       "        vertical-align: top;\n",
       "    }\n",
       "\n",
       "    .dataframe thead th {\n",
       "        text-align: right;\n",
       "    }\n",
       "<\/style>\n",
       "<table border=\"1\" class=\"dataframe\">\n",
       "  <thead>\n",
       "    <tr style=\"text-align: right;\">\n",
       "      <th><\/th>\n",
       "      <th>Company<\/th>\n",
       "      <th>Date<\/th>\n",
       "      <th>Revenue<\/th>\n",
       "      <th>Operating Expenses<\/th>\n",
       "      <th>Net Income<\/th>\n",
       "      <th>Layoff Period<\/th>\n",
       "    <\/tr>\n",
       "  <\/thead>\n",
       "  <tbody>\n",
       "    <tr>\n",
       "      <th>0<\/th>\n",
       "      <td>Amazon<\/td>\n",
       "      <td>2021-09-30<\/td>\n",
       "      <td>1.102120e+11<\/td>\n",
       "      <td>1.266000e+10<\/td>\n",
       "      <td>3.156000e+09<\/td>\n",
       "      <td>Pre-first layoff<\/td>\n",
       "    <\/tr>\n",
       "    <tr>\n",
       "      <th>1<\/th>\n",
       "      <td>Amazon<\/td>\n",
       "      <td>2021-12-31<\/td>\n",
       "      <td>1.369030e+11<\/td>\n",
       "      <td>3.420500e+10<\/td>\n",
       "      <td>1.432300e+10<\/td>\n",
       "      <td>Pre-first layoff<\/td>\n",
       "    <\/tr>\n",
       "    <tr>\n",
       "      <th>2<\/th>\n",
       "      <td>Amazon<\/td>\n",
       "      <td>2022-03-31<\/td>\n",
       "      <td>1.159860e+11<\/td>\n",
       "      <td>1.247400e+10<\/td>\n",
       "      <td>-3.844000e+09<\/td>\n",
       "      <td>Pre-first layoff<\/td>\n",
       "    <\/tr>\n",
       "    <tr>\n",
       "      <th>3<\/th>\n",
       "      <td>Amazon<\/td>\n",
       "      <td>2022-06-30<\/td>\n",
       "      <td>1.205330e+11<\/td>\n",
       "      <td>1.451900e+10<\/td>\n",
       "      <td>-2.028000e+09<\/td>\n",
       "      <td>Pre-first layoff<\/td>\n",
       "    <\/tr>\n",
       "    <tr>\n",
       "      <th>4<\/th>\n",
       "      <td>Amazon<\/td>\n",
       "      <td>2022-09-30<\/td>\n",
       "      <td>1.263810e+11<\/td>\n",
       "      <td>1.557100e+10<\/td>\n",
       "      <td>2.872000e+09<\/td>\n",
       "      <td>Pre-first layoff<\/td>\n",
       "    <\/tr>\n",
       "    <tr>\n",
       "      <th>5<\/th>\n",
       "      <td>Amazon<\/td>\n",
       "      <td>2022-12-31<\/td>\n",
       "      <td>1.483760e+11<\/td>\n",
       "      <td>1.360000e+09<\/td>\n",
       "      <td>2.780000e+08<\/td>\n",
       "      <td>Post-layoff 1<\/td>\n",
       "    <\/tr>\n",
       "    <tr>\n",
       "      <th>6<\/th>\n",
       "      <td>Amazon<\/td>\n",
       "      <td>2023-03-31<\/td>\n",
       "      <td>1.266050e+11<\/td>\n",
       "      <td>1.541100e+10<\/td>\n",
       "      <td>3.172000e+09<\/td>\n",
       "      <td>Post-layoff 3<\/td>\n",
       "    <\/tr>\n",
       "    <tr>\n",
       "      <th>7<\/th>\n",
       "      <td>Amazon<\/td>\n",
       "      <td>2023-06-30<\/td>\n",
       "      <td>1.335520e+11<\/td>\n",
       "      <td>1.548600e+10<\/td>\n",
       "      <td>6.750000e+09<\/td>\n",
       "      <td>Post-layoff 3<\/td>\n",
       "    <\/tr>\n",
       "    <tr>\n",
       "      <th>8<\/th>\n",
       "      <td>Amazon<\/td>\n",
       "      <td>2023-09-30<\/td>\n",
       "      <td>1.421830e+11<\/td>\n",
       "      <td>1.455100e+10<\/td>\n",
       "      <td>9.879000e+09<\/td>\n",
       "      <td>Post-layoff 3<\/td>\n",
       "    <\/tr>\n",
       "    <tr>\n",
       "      <th>9<\/th>\n",
       "      <td>Amazon<\/td>\n",
       "      <td>2023-12-31<\/td>\n",
       "      <td>1.693280e+11<\/td>\n",
       "      <td>3.927400e+10<\/td>\n",
       "      <td>1.062400e+10<\/td>\n",
       "      <td>Post-layoff 3<\/td>\n",
       "    <\/tr>\n",
       "    <tr>\n",
       "      <th>10<\/th>\n",
       "      <td>Amazon<\/td>\n",
       "      <td>2024-03-31<\/td>\n",
       "      <td>1.425950e+11<\/td>\n",
       "      <td>1.334500e+10<\/td>\n",
       "      <td>1.043100e+10<\/td>\n",
       "      <td>Post-layoff 3<\/td>\n",
       "    <\/tr>\n",
       "    <tr>\n",
       "      <th>11<\/th>\n",
       "      <td>Google<\/td>\n",
       "      <td>2021-09-30<\/td>\n",
       "      <td>6.492800e+10<\/td>\n",
       "      <td>1.646600e+10<\/td>\n",
       "      <td>1.893600e+10<\/td>\n",
       "      <td>Pre-first layoff<\/td>\n",
       "    <\/tr>\n",
       "    <tr>\n",
       "      <th>12<\/th>\n",
       "      <td>Google<\/td>\n",
       "      <td>2021-12-31<\/td>\n",
       "      <td>7.514000e+10<\/td>\n",
       "      <td>2.045200e+10<\/td>\n",
       "      <td>2.064200e+10<\/td>\n",
       "      <td>Pre-first layoff<\/td>\n",
       "    <\/tr>\n",
       "    <tr>\n",
       "      <th>13<\/th>\n",
       "      <td>Google<\/td>\n",
       "      <td>2022-03-31<\/td>\n",
       "      <td>6.805900e+10<\/td>\n",
       "      <td>1.831800e+10<\/td>\n",
       "      <td>1.643600e+10<\/td>\n",
       "      <td>Pre-first layoff<\/td>\n",
       "    <\/tr>\n",
       "    <tr>\n",
       "      <th>14<\/th>\n",
       "      <td>Google<\/td>\n",
       "      <td>2022-06-30<\/td>\n",
       "      <td>6.974300e+10<\/td>\n",
       "      <td>2.012800e+10<\/td>\n",
       "      <td>1.600200e+10<\/td>\n",
       "      <td>Pre-first layoff<\/td>\n",
       "    <\/tr>\n",
       "    <tr>\n",
       "      <th>15<\/th>\n",
       "      <td>Google<\/td>\n",
       "      <td>2022-09-30<\/td>\n",
       "      <td>6.942000e+10<\/td>\n",
       "      <td>2.079900e+10<\/td>\n",
       "      <td>1.391000e+10<\/td>\n",
       "      <td>Pre-first layoff<\/td>\n",
       "    <\/tr>\n",
       "    <tr>\n",
       "      <th>16<\/th>\n",
       "      <td>Google<\/td>\n",
       "      <td>2022-12-31<\/td>\n",
       "      <td>7.429100e+10<\/td>\n",
       "      <td>2.254600e+10<\/td>\n",
       "      <td>1.362400e+10<\/td>\n",
       "      <td>Pre-first layoff<\/td>\n",
       "    <\/tr>\n",
       "    <tr>\n",
       "      <th>17<\/th>\n",
       "      <td>Google<\/td>\n",
       "      <td>2023-03-31<\/td>\n",
       "      <td>6.968600e+10<\/td>\n",
       "      <td>2.431800e+10<\/td>\n",
       "      <td>1.505100e+10<\/td>\n",
       "      <td>Post-layoff 1<\/td>\n",
       "    <\/tr>\n",
       "    <tr>\n",
       "      <th>18<\/th>\n",
       "      <td>Google<\/td>\n",
       "      <td>2023-06-30<\/td>\n",
       "      <td>7.438300e+10<\/td>\n",
       "      <td>2.092000e+10<\/td>\n",
       "      <td>1.836800e+10<\/td>\n",
       "      <td>Post-layoff 1<\/td>\n",
       "    <\/tr>\n",
       "    <tr>\n",
       "      <th>19<\/th>\n",
       "      <td>Google<\/td>\n",
       "      <td>2023-09-30<\/td>\n",
       "      <td>7.630700e+10<\/td>\n",
       "      <td>2.222300e+10<\/td>\n",
       "      <td>1.968900e+10<\/td>\n",
       "      <td>Post-layoff 1<\/td>\n",
       "    <\/tr>\n",
       "    <tr>\n",
       "      <th>20<\/th>\n",
       "      <td>Google<\/td>\n",
       "      <td>2023-12-31<\/td>\n",
       "      <td>8.506900e+10<\/td>\n",
       "      <td>2.624100e+10<\/td>\n",
       "      <td>2.068700e+10<\/td>\n",
       "      <td>Post-layoff 1<\/td>\n",
       "    <\/tr>\n",
       "    <tr>\n",
       "      <th>21<\/th>\n",
       "      <td>Google<\/td>\n",
       "      <td>2024-03-31<\/td>\n",
       "      <td>8.037400e+10<\/td>\n",
       "      <td>2.135500e+10<\/td>\n",
       "      <td>2.366200e+10<\/td>\n",
       "      <td>Post-layoff 1<\/td>\n",
       "    <\/tr>\n",
       "    <tr>\n",
       "      <th>22<\/th>\n",
       "      <td>Meta<\/td>\n",
       "      <td>2021-09-30<\/td>\n",
       "      <td>2.900600e+10<\/td>\n",
       "      <td>1.302800e+10<\/td>\n",
       "      <td>9.194000e+09<\/td>\n",
       "      <td>Pre-first layoff<\/td>\n",
       "    <\/tr>\n",
       "    <tr>\n",
       "      <th>23<\/th>\n",
       "      <td>Meta<\/td>\n",
       "      <td>2021-12-31<\/td>\n",
       "      <td>3.352700e+10<\/td>\n",
       "      <td>1.487300e+10<\/td>\n",
       "      <td>1.028500e+10<\/td>\n",
       "      <td>Pre-first layoff<\/td>\n",
       "    <\/tr>\n",
       "    <tr>\n",
       "      <th>24<\/th>\n",
       "      <td>Meta<\/td>\n",
       "      <td>2022-03-31<\/td>\n",
       "      <td>2.790400e+10<\/td>\n",
       "      <td>1.351700e+10<\/td>\n",
       "      <td>7.465000e+09<\/td>\n",
       "      <td>Pre-first layoff<\/td>\n",
       "    <\/tr>\n",
       "    <tr>\n",
       "      <th>25<\/th>\n",
       "      <td>Meta<\/td>\n",
       "      <td>2022-06-30<\/td>\n",
       "      <td>2.881800e+10<\/td>\n",
       "      <td>1.542000e+10<\/td>\n",
       "      <td>6.687000e+09<\/td>\n",
       "      <td>Pre-first layoff<\/td>\n",
       "    <\/tr>\n",
       "    <tr>\n",
       "      <th>26<\/th>\n",
       "      <td>Meta<\/td>\n",
       "      <td>2022-09-30<\/td>\n",
       "      <td>2.771000e+10<\/td>\n",
       "      <td>1.723700e+10<\/td>\n",
       "      <td>4.395000e+09<\/td>\n",
       "      <td>Pre-first layoff<\/td>\n",
       "    <\/tr>\n",
       "    <tr>\n",
       "      <th>27<\/th>\n",
       "      <td>Meta<\/td>\n",
       "      <td>2022-12-31<\/td>\n",
       "      <td>3.192000e+10<\/td>\n",
       "      <td>1.715900e+10<\/td>\n",
       "      <td>4.653000e+09<\/td>\n",
       "      <td>Post-layoff 1<\/td>\n",
       "    <\/tr>\n",
       "    <tr>\n",
       "      <th>28<\/th>\n",
       "      <td>Meta<\/td>\n",
       "      <td>2023-03-31<\/td>\n",
       "      <td>2.859100e+10<\/td>\n",
       "      <td>1.623100e+10<\/td>\n",
       "      <td>5.709000e+09<\/td>\n",
       "      <td>Post-layoff 2<\/td>\n",
       "    <\/tr>\n",
       "    <tr>\n",
       "      <th>29<\/th>\n",
       "      <td>Meta<\/td>\n",
       "      <td>2023-06-30<\/td>\n",
       "      <td>3.188400e+10<\/td>\n",
       "      <td>1.678700e+10<\/td>\n",
       "      <td>7.788000e+09<\/td>\n",
       "      <td>Post-layoff 2<\/td>\n",
       "    <\/tr>\n",
       "    <tr>\n",
       "      <th>30<\/th>\n",
       "      <td>Meta<\/td>\n",
       "      <td>2023-09-30<\/td>\n",
       "      <td>3.400900e+10<\/td>\n",
       "      <td>1.430000e+10<\/td>\n",
       "      <td>1.158300e+10<\/td>\n",
       "      <td>Post-layoff 2<\/td>\n",
       "    <\/tr>\n",
       "    <tr>\n",
       "      <th>31<\/th>\n",
       "      <td>Meta<\/td>\n",
       "      <td>2023-12-31<\/td>\n",
       "      <td>3.960500e+10<\/td>\n",
       "      <td>1.724500e+10<\/td>\n",
       "      <td>1.401700e+10<\/td>\n",
       "      <td>Post-layoff 2<\/td>\n",
       "    <\/tr>\n",
       "    <tr>\n",
       "      <th>32<\/th>\n",
       "      <td>Meta<\/td>\n",
       "      <td>2024-03-31<\/td>\n",
       "      <td>3.645500e+10<\/td>\n",
       "      <td>1.623700e+10<\/td>\n",
       "      <td>1.236900e+10<\/td>\n",
       "      <td>Post-layoff 2<\/td>\n",
       "    <\/tr>\n",
       "    <tr>\n",
       "      <th>33<\/th>\n",
       "      <td>Microsoft<\/td>\n",
       "      <td>2021-09-30<\/td>\n",
       "      <td>4.474300e+10<\/td>\n",
       "      <td>1.209800e+10<\/td>\n",
       "      <td>2.050500e+10<\/td>\n",
       "      <td>Pre-first layoff<\/td>\n",
       "    <\/tr>\n",
       "    <tr>\n",
       "      <th>34<\/th>\n",
       "      <td>Microsoft<\/td>\n",
       "      <td>2021-12-31<\/td>\n",
       "      <td>5.122800e+10<\/td>\n",
       "      <td>1.323100e+10<\/td>\n",
       "      <td>1.876500e+10<\/td>\n",
       "      <td>Pre-first layoff<\/td>\n",
       "    <\/tr>\n",
       "    <tr>\n",
       "      <th>35<\/th>\n",
       "      <td>Microsoft<\/td>\n",
       "      <td>2022-03-31<\/td>\n",
       "      <td>4.873200e+10<\/td>\n",
       "      <td>1.417200e+10<\/td>\n",
       "      <td>1.672800e+10<\/td>\n",
       "      <td>Pre-first layoff<\/td>\n",
       "    <\/tr>\n",
       "    <tr>\n",
       "      <th>36<\/th>\n",
       "      <td>Microsoft<\/td>\n",
       "      <td>2022-06-30<\/td>\n",
       "      <td>5.140600e+10<\/td>\n",
       "      <td>1.570300e+10<\/td>\n",
       "      <td>1.674000e+10<\/td>\n",
       "      <td>Pre-first layoff<\/td>\n",
       "    <\/tr>\n",
       "    <tr>\n",
       "      <th>37<\/th>\n",
       "      <td>Microsoft<\/td>\n",
       "      <td>2022-09-30<\/td>\n",
       "      <td>4.963600e+10<\/td>\n",
       "      <td>1.397400e+10<\/td>\n",
       "      <td>1.755600e+10<\/td>\n",
       "      <td>Pre-first layoff<\/td>\n",
       "    <\/tr>\n",
       "    <tr>\n",
       "      <th>38<\/th>\n",
       "      <td>Microsoft<\/td>\n",
       "      <td>2022-12-31<\/td>\n",
       "      <td>5.203200e+10<\/td>\n",
       "      <td>1.674900e+10<\/td>\n",
       "      <td>1.642500e+10<\/td>\n",
       "      <td>Pre-first layoff<\/td>\n",
       "    <\/tr>\n",
       "    <tr>\n",
       "      <th>39<\/th>\n",
       "      <td>Microsoft<\/td>\n",
       "      <td>2023-03-31<\/td>\n",
       "      <td>5.240500e+10<\/td>\n",
       "      <td>1.533700e+10<\/td>\n",
       "      <td>1.829900e+10<\/td>\n",
       "      <td>Post-layoff 1<\/td>\n",
       "    <\/tr>\n",
       "    <tr>\n",
       "      <th>40<\/th>\n",
       "      <td>Microsoft<\/td>\n",
       "      <td>2023-06-30<\/td>\n",
       "      <td>5.565900e+10<\/td>\n",
       "      <td>1.609800e+10<\/td>\n",
       "      <td>2.008100e+10<\/td>\n",
       "      <td>Post-layoff 1<\/td>\n",
       "    <\/tr>\n",
       "    <tr>\n",
       "      <th>41<\/th>\n",
       "      <td>Microsoft<\/td>\n",
       "      <td>2023-09-30<\/td>\n",
       "      <td>5.602900e+10<\/td>\n",
       "      <td>1.433600e+10<\/td>\n",
       "      <td>2.229100e+10<\/td>\n",
       "      <td>Post-layoff 1<\/td>\n",
       "    <\/tr>\n",
       "    <tr>\n",
       "      <th>42<\/th>\n",
       "      <td>Microsoft<\/td>\n",
       "      <td>2023-12-31<\/td>\n",
       "      <td>6.084900e+10<\/td>\n",
       "      <td>1.707300e+10<\/td>\n",
       "      <td>2.187000e+10<\/td>\n",
       "      <td>Post-layoff 1<\/td>\n",
       "    <\/tr>\n",
       "    <tr>\n",
       "      <th>43<\/th>\n",
       "      <td>Microsoft<\/td>\n",
       "      <td>2024-03-31<\/td>\n",
       "      <td>6.091100e+10<\/td>\n",
       "      <td>1.762500e+10<\/td>\n",
       "      <td>2.193900e+10<\/td>\n",
       "      <td>Post-layoff 1<\/td>\n",
       "    <\/tr>\n",
       "    <tr>\n",
       "      <th>44<\/th>\n",
       "      <td>Salesforce<\/td>\n",
       "      <td>2021-07-31<\/td>\n",
       "      <td>7.085000e+09<\/td>\n",
       "      <td>4.395000e+09<\/td>\n",
       "      <td>5.350000e+08<\/td>\n",
       "      <td>Pre-first layoff<\/td>\n",
       "    <\/tr>\n",
       "    <tr>\n",
       "      <th>45<\/th>\n",
       "      <td>Salesforce<\/td>\n",
       "      <td>2021-10-31<\/td>\n",
       "      <td>7.403000e+09<\/td>\n",
       "      <td>4.981000e+09<\/td>\n",
       "      <td>4.680000e+08<\/td>\n",
       "      <td>Pre-first layoff<\/td>\n",
       "    <\/tr>\n",
       "    <tr>\n",
       "      <th>46<\/th>\n",
       "      <td>Salesforce<\/td>\n",
       "      <td>2022-01-31<\/td>\n",
       "      <td>7.272000e+09<\/td>\n",
       "      <td>5.488000e+09<\/td>\n",
       "      <td>-2.800000e+07<\/td>\n",
       "      <td>Pre-first layoff<\/td>\n",
       "    <\/tr>\n",
       "    <tr>\n",
       "      <th>47<\/th>\n",
       "      <td>Salesforce<\/td>\n",
       "      <td>2022-04-30<\/td>\n",
       "      <td>7.492000e+09<\/td>\n",
       "      <td>5.346000e+09<\/td>\n",
       "      <td>2.800000e+07<\/td>\n",
       "      <td>Pre-first layoff<\/td>\n",
       "    <\/tr>\n",
       "    <tr>\n",
       "      <th>48<\/th>\n",
       "      <td>Salesforce<\/td>\n",
       "      <td>2022-07-31<\/td>\n",
       "      <td>7.839000e+09<\/td>\n",
       "      <td>5.400000e+09<\/td>\n",
       "      <td>6.800000e+07<\/td>\n",
       "      <td>Pre-first layoff<\/td>\n",
       "    <\/tr>\n",
       "    <tr>\n",
       "      <th>49<\/th>\n",
       "      <td>Salesforce<\/td>\n",
       "      <td>2022-10-31<\/td>\n",
       "      <td>7.786000e+09<\/td>\n",
       "      <td>5.289000e+09<\/td>\n",
       "      <td>2.100000e+08<\/td>\n",
       "      <td>Pre-first layoff<\/td>\n",
       "    <\/tr>\n",
       "    <tr>\n",
       "      <th>50<\/th>\n",
       "      <td>Salesforce<\/td>\n",
       "      <td>2023-01-31<\/td>\n",
       "      <td>8.096000e+09<\/td>\n",
       "      <td>5.927000e+09<\/td>\n",
       "      <td>-9.800000e+07<\/td>\n",
       "      <td>Post-layoff 1<\/td>\n",
       "    <\/tr>\n",
       "    <tr>\n",
       "      <th>51<\/th>\n",
       "      <td>Salesforce<\/td>\n",
       "      <td>2023-04-30<\/td>\n",
       "      <td>8.245000e+09<\/td>\n",
       "      <td>5.710000e+09<\/td>\n",
       "      <td>1.990000e+08<\/td>\n",
       "      <td>Post-layoff 1<\/td>\n",
       "    <\/tr>\n",
       "    <tr>\n",
       "      <th>52<\/th>\n",
       "      <td>Salesforce<\/td>\n",
       "      <td>2023-07-31<\/td>\n",
       "      <td>8.639000e+09<\/td>\n",
       "      <td>5.014000e+09<\/td>\n",
       "      <td>1.267000e+09<\/td>\n",
       "      <td>Post-layoff 1<\/td>\n",
       "    <\/tr>\n",
       "    <tr>\n",
       "      <th>53<\/th>\n",
       "      <td>Salesforce<\/td>\n",
       "      <td>2023-10-31<\/td>\n",
       "      <td>8.734000e+09<\/td>\n",
       "      <td>5.064000e+09<\/td>\n",
       "      <td>1.224000e+09<\/td>\n",
       "      <td>Post-layoff 1<\/td>\n",
       "    <\/tr>\n",
       "    <tr>\n",
       "      <th>54<\/th>\n",
       "      <td>Salesforce<\/td>\n",
       "      <td>2024-01-31<\/td>\n",
       "      <td>9.251000e+09<\/td>\n",
       "      <td>5.517000e+09<\/td>\n",
       "      <td>1.446000e+09<\/td>\n",
       "      <td>Post-layoff 1<\/td>\n",
       "    <\/tr>\n",
       "    <tr>\n",
       "      <th>55<\/th>\n",
       "      <td>Salesforce<\/td>\n",
       "      <td>2024-04-30<\/td>\n",
       "      <td>9.192000e+09<\/td>\n",
       "      <td>5.262000e+09<\/td>\n",
       "      <td>1.533000e+09<\/td>\n",
       "      <td>Post-layoff 1<\/td>\n",
       "    <\/tr>\n",
       "  <\/tbody>\n",
       "<\/table>\n",
       "<\/div>"
      ]
     },
     "metadata":{},
     "output_type":"display_data"
    }
   ],
   "metadata":{
    "datalore":{
     "node_id":"l8GNI8DzO4eOlsLqEtVRX3",
     "type":"CODE",
     "hide_input_from_viewers":false,
     "hide_output_from_viewers":false,
     "report_properties":{
      "rowId":"ff8L9JIuGhBYquawhlNH9d",
      "relativeY":0
     }
    }
   }
  },
  {
   "cell_type":"code",
   "source":[
    "## Input the second piece of the puzzle within the \"\"\n",
    "\n",
    "part_2 = \"\""
   ],
   "execution_count":null,
   "outputs":[],
   "metadata":{
    "datalore":{
     "node_id":"SUhfTq91TZKr1ZRzZKXALN",
     "type":"CODE",
     "hide_input_from_viewers":false,
     "hide_output_from_viewers":false,
     "report_properties":{
      "rowId":"hzSv6lfiYFyeKUalqyOLCX",
      "relativeY":0
     }
    }
   }
  },
  {
   "cell_type":"markdown",
   "source":[
    "## Watch a Datalore editor overview to discover other productivity-boosting features\n",
    "\n",
    "Learn how to:\n",
    "- Create and import Python, SQL, R, and Scala notebooks.\n",
    "- Add new code cells, Markdown, and interactive controls.\n",
    "- Get access to attached data, the environment manager, computation settings, the table of contents, the variable viewer, and the notebook file system.\n",
    "\n",
    "<div align=\"center\"><video width=\"800\" height=\"450\" controls>\n",
    "\n",
    "<source src=\"https:\/\/datalore-samples.s3.eu-west-1.amazonaws.com\/getting-started\/videos-2024\/Datalore+Notebooks+Overview.mov\" type=\"video\/mp4\">\n",
    "\n",
    "<\/video><\/div>"
   ],
   "attachments":{},
   "metadata":{
    "datalore":{
     "node_id":"xImM2eWnUluYtOpEeLzvvd",
     "type":"MD",
     "hide_input_from_viewers":false,
     "hide_output_from_viewers":false,
     "report_properties":{
      "rowId":"ucqaF0IQ9ZtkakrZlGipmN",
      "relativeY":0
     }
    }
   }
  },
  {
   "cell_type":"markdown",
   "source":[
    "💡 This tutorial is split into several **worksheets**. Navigate through the tabs at the top of the editor or use the table of contents on the left-hand sidebar.\n",
    "\n",
    "Please navigate to the ***Data*** tab to continue this tutorial.\n",
    "\n",
    "<div><img src=\"https:\/\/datalore-samples.s3.eu-west-1.amazonaws.com\/getting-started\/videos-2024\/header.png\" width = 900 border=\"2\" style=\"border-color: #d3d3d3; margin-top: 1%;\"\/><\/div>"
   ],
   "attachments":{},
   "metadata":{
    "datalore":{
     "node_id":"B0yf3j6P4Zz4K5I3WMpgOK",
     "type":"MD",
     "hide_input_from_viewers":false,
     "hide_output_from_viewers":false,
     "report_properties":{
      "rowId":"aNvhktBVRitRKE8mPFKmwr",
      "relativeY":0
     }
    }
   }
  },
  {
   "cell_type":"markdown",
   "source":[
    "# Data"
   ],
   "attachments":{},
   "metadata":{
    "datalore":{
     "node_id":"Data",
     "type":"MD",
     "hide_input_from_viewers":false,
     "hide_output_from_viewers":false,
     "sheet_delimiter":true
    }
   }
  },
  {
   "cell_type":"markdown",
   "source":[
    "## Connect a database, run your first SQL query, and reveal the third piece of the puzzle 🧩\n",
    "\n",
    "Whether you work with CSV files, S3 buckets, or SQL databases, Datalore offers you easy ways to access and query your data from multiple sources in one notebook. Watch the overview of data integrations and connect your first database to run a SQL query.\n",
    "\n",
    "\n",
    "<div align=\"center\"><video width=\"800\" height=\"450\" controls>\n",
    "\n",
    "<source src=\"https:\/\/datalore-samples.s3.eu-west-1.amazonaws.com\/getting-started\/videos-2024\/Datalore+Data+Integrations+Overview.mov\">\n",
    "\n",
    "<\/video><\/div>\n",
    "\n",
    "Follow these steps:\n",
    "1. Open *Attached data* and create a new PostgreSQL database connection\n",
    "2. Choose *Connection type: URL only* and input the following credentials::\n",
    "    - User: datalore\n",
    "    - Password: datalore\n",
    "    - URL: jdbc:postgresql:\/\/demo-database.private.datalore.io:5432\/datalore\n",
    " \n",
    "3. Add a new SQL cell, browse the database schema, and then, from the yahoo_data table, query all the rows where \"Ticker\" = 'META'. The SQL query result is automatically saved to a pandas dataframe that we will use further in our notebook.\n",
    "4. Apply the following filters **by using interactive table options**:\n",
    "    1. Filter by *Open* > 280\n",
    "   <div><img src=\"https:\/\/datalore-samples.s3.eu-west-1.amazonaws.com\/getting-started\/videos-2024\/filter_table.png\" width = 400 border=\"2\" style=\"border-color: #d3d3d3; margin-top: 1%;\"\/><\/div>\n",
    "    2. Sort ascending by Open\n",
    "5. Get the first letter of the month in the first row in the table – this is your third piece of the puzzle."
   ],
   "attachments":{},
   "metadata":{
    "datalore":{
     "node_id":"wJ5CdYHXwDlfubAFkXCcFF",
     "type":"MD",
     "hide_input_from_viewers":false,
     "hide_output_from_viewers":false,
     "report_properties":{
      "rowId":"FjhGGO3EY6DUIQ44fzaCNg",
      "relativeY":0
     }
    }
   }
  },
  {
   "cell_type":"code",
   "source":[
    "## Input the third piece of the puzzle within the \"\"\n",
    "part_3 = \"\""
   ],
   "execution_count":null,
   "outputs":[],
   "metadata":{
    "datalore":{
     "node_id":"8iVhOAcD3CWlGFbl6EGc2d",
     "type":"CODE",
     "hide_input_from_viewers":false,
     "hide_output_from_viewers":false,
     "report_properties":{
      "rowId":"f9QgwA2948jISXSaN4ulwF",
      "relativeY":0
     }
    }
   }
  },
  {
   "cell_type":"markdown",
   "source":[
    "Now, please navigate to the ***Datalore AI*** tab to continue this tutorial."
   ],
   "attachments":{},
   "metadata":{
    "datalore":{
     "node_id":"2ZmfEz4ML6URpOiHFgYxYp",
     "type":"MD",
     "hide_input_from_viewers":false,
     "hide_output_from_viewers":false,
     "report_properties":{
      "rowId":"4fAthp4OQPCbGrgZNysmu1",
      "relativeY":0
     }
    }
   }
  },
  {
   "cell_type":"markdown",
   "source":[
    "# Datalore AI"
   ],
   "attachments":{},
   "metadata":{
    "datalore":{
     "node_id":"Datalore AI",
     "type":"MD",
     "hide_input_from_viewers":false,
     "hide_output_from_viewers":false,
     "sheet_delimiter":true
    }
   }
  },
  {
   "cell_type":"markdown",
   "source":[
    "## Explore the possibilities of Datalore AI 🧩\n",
    "\n",
    "Datalore AI currently offers 3 major features:\n",
    "\n",
    "- The ability to generate and edit Python, SQL, R, and Scala code, as well as Markdown text.\n",
    "- *Datalore Autopilot*, which suggests next steps for your analysis.\n",
    "- A *Fix error* feature to help you debug your code.\n",
    "\n",
    "Watch this short overview of the AI features and then reveal your fourth piece of the puzzle!\n",
    "\n",
    "<div align=\"center\"><video width=\"800\" height=\"450\" controls>\n",
    "\n",
    "<source src=\"https:\/\/datalore-samples.s3.eu-west-1.amazonaws.com\/getting-started\/videos-2024\/Datalore+AI+Assistant+Overview.mov\">\n",
    "\n",
    "<\/video><\/div>\n",
    "\n",
    "Steps to follow:\n",
    "1. Open Datalore Autopilot.\n",
    "3. Go to the cell settings and choose to include outputs in the prompt. This will ensure that the code generated is of higher quality.\n",
    "4. Click on the 💡 icon to explore the available AI suggestions.\n",
    "5. Copy and input the following custom prompt and then click the send icon: \n",
    "   \n",
    "***Visualize 'Open' and 'Adj Close' for df_1 using the Plotly package.***\n",
    "\n",
    "5. Explore the resulting plot. \n",
    "6. Write the first digit of the highest Adj close price as the solution to the fourth piece of the puzzle."
   ],
   "attachments":{},
   "metadata":{
    "datalore":{
     "node_id":"mPLlbyhIk7VeMXrmYQyuVI",
     "type":"MD",
     "hide_input_from_viewers":false,
     "hide_output_from_viewers":false,
     "report_properties":{
      "rowId":"D22xei2uF1LZCaT4hnnlyh",
      "relativeY":0
     }
    }
   }
  },
  {
   "cell_type":"code",
   "source":[
    "## Input the fourth piece of the puzzle within the \"\"\n",
    "\n",
    "part_4 = \"\""
   ],
   "execution_count":null,
   "outputs":[],
   "metadata":{
    "datalore":{
     "node_id":"vSkBNcaJmKX34Eyv2CU3sA",
     "type":"CODE",
     "hide_input_from_viewers":false,
     "hide_output_from_viewers":false,
     "report_properties":{
      "rowId":"Ipwa8Ap3BSWhbRhkUko98P",
      "relativeY":0
     }
    }
   }
  },
  {
   "cell_type":"markdown",
   "source":[
    "Please navigate to the ***Environment*** tab to continue this tutorial."
   ],
   "attachments":{},
   "metadata":{
    "datalore":{
     "node_id":"DSjDCBj5JgfiRVqdFIfF70",
     "type":"MD",
     "hide_input_from_viewers":false,
     "hide_output_from_viewers":false,
     "report_properties":{
      "rowId":"tpRav58ElQQLWRhVNHAo6Y",
      "relativeY":0
     }
    }
   }
  },
  {
   "cell_type":"markdown",
   "source":[
    "# Environment"
   ],
   "attachments":{},
   "metadata":{
    "datalore":{
     "node_id":"Environment",
     "type":"MD",
     "hide_input_from_viewers":false,
     "hide_output_from_viewers":false,
     "sheet_delimiter":true
    }
   }
  },
  {
   "cell_type":"markdown",
   "source":[
    "## Learn how to manage the environment and explore installed packages to get your fifth piece of the puzzle🧩\n",
    "\n",
    "Watch a short overview video and then complete the task below.\n",
    "\n",
    "<div align=\"center\"><video width=\"800\" height=\"450\" controls>\n",
    "\n",
    "<source src=\"https:\/\/datalore-samples.s3.eu-west-1.amazonaws.com\/getting-started\/videos-2024\/Datalore+Environment+Manager+Overview.mov\">\n",
    "\n",
    "<\/video><\/div>\n",
    "\n",
    "Steps:\n",
    "1. Go to *Environment | Packages | Installed*.\n",
    "2. Check whether the *scikit-learn* package is pre-installed. If it is, enter a *Y* symbol as the fifth piece of the discount code puzzle. Otherwise, enter an *N*."
   ],
   "attachments":{},
   "metadata":{
    "datalore":{
     "node_id":"zbTp9bD1SAs9lc3uB2s9bQ",
     "type":"MD",
     "hide_input_from_viewers":false,
     "hide_output_from_viewers":false,
     "report_properties":{
      "rowId":"OXZyH4Zmf0qCn8CKqQHNM5",
      "relativeY":0
     }
    }
   }
  },
  {
   "cell_type":"code",
   "source":[
    "## Input the fifth piece of the puzzle within the \"\"\n",
    "part_5 = \"\""
   ],
   "execution_count":null,
   "outputs":[],
   "metadata":{
    "datalore":{
     "node_id":"uO8EScOtS7GE13Af8ORHHc",
     "type":"CODE",
     "hide_input_from_viewers":false,
     "hide_output_from_viewers":false,
     "report_properties":{
      "rowId":"sPl5PmrCzTzGQtlnOqwFUK",
      "relativeY":0
     }
    }
   }
  },
  {
   "cell_type":"markdown",
   "source":[
    "Please navigate to the ***Sharing tab*** to continue this tutorial."
   ],
   "attachments":{},
   "metadata":{
    "datalore":{
     "node_id":"sViMUIqXhM4TMpFRMJv3hY",
     "type":"MD",
     "hide_input_from_viewers":false,
     "hide_output_from_viewers":false,
     "report_properties":{
      "rowId":"8ihGahneo57tSM5hdImQKN",
      "relativeY":0
     }
    }
   }
  },
  {
   "cell_type":"markdown",
   "source":[
    "# Sharing"
   ],
   "attachments":{},
   "metadata":{
    "datalore":{
     "node_id":"Sharing",
     "type":"MD",
     "hide_input_from_viewers":false,
     "hide_output_from_viewers":false,
     "sheet_delimiter":true
    }
   }
  },
  {
   "cell_type":"markdown",
   "source":[
    "## Learn about Datalore's collaborative features and find the sixth piece of the puzzle 🧩 – This one is easy!\n",
    "\n",
    "<div align=\"center\"><video width=\"800\" height=\"450\" controls>\n",
    "\n",
    "<source src=\"https:\/\/datalore-samples.s3.eu-west-1.amazonaws.com\/getting-started\/videos-2024\/Datalore+Collaboration+Overview.mov\">\n",
    "\n",
    "<\/video><\/div>\n",
    "\n",
    "**What is the name of Datalore's internal versioning tool? The last letter of the name will give you your next piece of the puzzle 🧩.**"
   ],
   "attachments":{},
   "metadata":{
    "datalore":{
     "node_id":"WEJAKS0YfmX6j9BonPFogz",
     "type":"MD",
     "hide_input_from_viewers":false,
     "hide_output_from_viewers":false,
     "report_properties":{
      "rowId":"sjHy7e81zQTSo2RnZz6n9z",
      "relativeY":0
     }
    }
   }
  },
  {
   "cell_type":"code",
   "source":[
    "## Input the sixth piece of the puzzle within the \"\"\n",
    "part_6 = \"\""
   ],
   "execution_count":null,
   "outputs":[],
   "metadata":{
    "datalore":{
     "node_id":"R3ndlSt9ajGPnmY3efx9wX",
     "type":"CODE",
     "hide_input_from_viewers":false,
     "hide_output_from_viewers":false,
     "report_properties":{
      "rowId":"PNi7jFep3cveKS10HRvo7q",
      "relativeY":0
     }
    }
   }
  },
  {
   "cell_type":"markdown",
   "source":[
    "Please navigate to the ***Reporting*** tab to continue this tutorial."
   ],
   "attachments":{},
   "metadata":{
    "datalore":{
     "node_id":"7N1fJweMYfsyO2L4uzEytQ",
     "type":"MD",
     "hide_input_from_viewers":false,
     "hide_output_from_viewers":false,
     "report_properties":{
      "rowId":"wJgc9pYnamTrroABij4wXc",
      "relativeY":0
     }
    }
   }
  },
  {
   "cell_type":"markdown",
   "source":[
    "# Reporting"
   ],
   "attachments":{},
   "metadata":{
    "datalore":{
     "node_id":"Reporting",
     "type":"MD",
     "hide_input_from_viewers":false,
     "hide_output_from_viewers":false,
     "sheet_delimiter":true
    }
   }
  },
  {
   "cell_type":"markdown",
   "source":[
    "## Great job so far on progressing through the quiz!\n",
    "\n",
    "**You have two more worksheets to go and two more parts of the puzzle to solve!**\n",
    "\n",
    "Datalore helps turn your Jupyter notebooks into beautiful reports. Add interactive controls, arrange notebook cells on the canvas, and publish your report with one click. Share your work with stakeholders by link and schedule automatic report updates.\n",
    "\n",
    "Watch the tutorial below and complete the task.\n",
    "\n",
    "<div align=\"center\"><video width=\"800\" height=\"450\" controls>\n",
    "\n",
    "<source src=\"https:\/\/datalore-samples.s3.eu-west-1.amazonaws.com\/getting-started\/videos-2024\/Datalore+Reporting+Overview.mov\">\n",
    "\n",
    "<\/video><\/div>\n",
    "\n",
    "**Task 🧩:**\n",
    "1. Click the *Build report* button in the upper right-hand corner.\n",
    "2. Play with arranging the cells on the canvas.\n",
    "3. Click *Publish report* and see the *Report type* options.\n",
    "4. What is the second option? The first letter of the option is the seventh piece of the puzzle. 🧩."
   ],
   "attachments":{},
   "metadata":{
    "datalore":{
     "node_id":"L60bGt14yNjvHKNxpafNGB",
     "type":"MD",
     "hide_input_from_viewers":false,
     "hide_output_from_viewers":false,
     "report_properties":{
      "rowId":"GJJWeDoez0ffzdFiqY4wO2",
      "relativeY":0
     }
    }
   }
  },
  {
   "cell_type":"markdown",
   "source":[
    "💡 **Pro tip:** You can leave cell **comments** on both notebooks and reports.\n",
    "\n",
    "When somebody leaves a comment in your published report, you will see it reflected in the corresponding notebook cell. Tag people by mentioning their email addresses, reply to their comments, and resolve the threads. Once you get a comment, you'll be notified via email. If you want to disable comment notifications, go to *Account settings | Notifications* by clicking on your avatar."
   ],
   "attachments":{},
   "metadata":{
    "datalore":{
     "node_id":"NYX7qFVLfVZ4wPZ1iJ34lj",
     "type":"MD",
     "hide_input_from_viewers":false,
     "hide_output_from_viewers":false,
     "report_properties":{
      "rowId":"N6YkBs7ts8CL4ZlPyPadGg",
      "relativeY":0
     }
    }
   }
  },
  {
   "cell_type":"code",
   "source":[
    "## Input the seventh piece of the puzzle within the \"\"\n",
    "\n",
    "part_7 = \"\""
   ],
   "execution_count":null,
   "outputs":[],
   "metadata":{
    "datalore":{
     "node_id":"RAoX2Z1BKSCFRToA6Di7vi",
     "type":"CODE",
     "hide_input_from_viewers":false,
     "hide_output_from_viewers":false,
     "report_properties":{
      "rowId":"SyevwTm8ha3tRjbOgEKpih",
      "relativeY":0
     }
    }
   }
  },
  {
   "cell_type":"markdown",
   "source":[
    "Please navigate to the ***Scheduling and Computation*** tab to continue this tutorial."
   ],
   "attachments":{},
   "metadata":{
    "datalore":{
     "node_id":"ZxROST1NXnrazsIIqVDJbt",
     "type":"MD",
     "hide_input_from_viewers":false,
     "hide_output_from_viewers":false,
     "report_properties":{
      "rowId":"zgSBO4S5VaiRSDgOEQO32a",
      "relativeY":0
     }
    }
   }
  },
  {
   "cell_type":"markdown",
   "source":[
    "# Scheduling and Computation"
   ],
   "attachments":{},
   "metadata":{
    "datalore":{
     "node_id":"Scheduling and Computation",
     "type":"MD",
     "hide_input_from_viewers":false,
     "hide_output_from_viewers":false,
     "sheet_delimiter":true
    }
   }
  },
  {
   "cell_type":"markdown",
   "source":[
    "## Last but not least, learn to schedule notebook and report updates and explore computation options\n",
    "\n",
    "In our last tutorial, you will learn everything about the Computation tab of the left-hand sidebar.\n",
    "\n",
    "<div align=\"center\"><video width=\"800\" height=\"450\" controls>\n",
    "\n",
    "<source src=\"https:\/\/datalore-samples.s3.eu-west-1.amazonaws.com\/getting-started\/videos-2024\/Datalore+Scheduling+and+Computation+Overview.mov\">\n",
    "\n",
    "<\/video><\/div>\n",
    "\n",
    "Your last task 🧩 ? Open the notebook and click *Run all*. Then check the eighth piece of the puzzle in the cell below."
   ],
   "attachments":{},
   "metadata":{
    "datalore":{
     "node_id":"o6bClnJ1uXpatAzm0QBjMb",
     "type":"MD",
     "hide_input_from_viewers":false,
     "hide_output_from_viewers":false,
     "report_properties":{
      "rowId":"aoxmlXq0kpB0Ru09ploZiG",
      "relativeY":0
     }
    }
   }
  },
  {
   "cell_type":"code",
   "source":[
    "part_7_str = \"Congratulations on making it to the end! It’s time to move on to the last worksheet.\\nThe last piece of the puzzle is: \"\n",
    "part_8 = str(part_7_str.__len__())\n",
    "print(part_7_str + part_8)"
   ],
   "execution_count":null,
   "outputs":[],
   "metadata":{
    "datalore":{
     "node_id":"x805jNbjdgyKtin4bu9QXM",
     "type":"CODE",
     "hide_input_from_viewers":false,
     "hide_output_from_viewers":false,
     "report_properties":{
      "rowId":"JJoHSqZ522c8IhNABAd1G9",
      "relativeY":0
     }
    }
   }
  },
  {
   "cell_type":"markdown",
   "source":[
    "# Results"
   ],
   "attachments":{},
   "metadata":{
    "datalore":{
     "node_id":"Results",
     "type":"MD",
     "hide_input_from_viewers":false,
     "hide_output_from_viewers":false,
     "sheet_delimiter":true
    }
   }
  },
  {
   "cell_type":"markdown",
   "source":[
    "## Now that you have the full puzzle, let's print it out!\n",
    "\n",
    "Then try applying the code at checkout:  datalore.jetbrains.com\/pricing\/"
   ],
   "attachments":{},
   "metadata":{
    "datalore":{
     "node_id":"EOUwNV5UTJCOPKeIzwPm2X",
     "type":"MD",
     "hide_input_from_viewers":false,
     "hide_output_from_viewers":false,
     "report_properties":{
      "rowId":"fGu534TWwAGbybjLJBs0y2",
      "relativeY":0
     }
    }
   }
  },
  {
   "cell_type":"code",
   "source":[
    "discount_code = part_1 + part_2 + part_3 + part_4 + part_5 + part_6 + part_7 + part_8\n",
    "print(discount_code)"
   ],
   "execution_count":null,
   "outputs":[],
   "metadata":{
    "datalore":{
     "node_id":"JyItWYuzQAVizYyBRZU44M",
     "type":"CODE",
     "hide_input_from_viewers":false,
     "hide_output_from_viewers":false,
     "report_properties":{
      "rowId":"idreHioIpxdAL5cRtRmm51",
      "relativeY":0
     }
    }
   }
  },
  {
   "cell_type":"markdown",
   "source":[
    "## If you want to learn more, subscribe to our [blog](https:\/\/blog.jetbrains.com\/datalore\/) updates!"
   ],
   "attachments":{},
   "metadata":{
    "datalore":{
     "node_id":"pfZnzFum6p7F8EpKZWvc9m",
     "type":"MD",
     "hide_input_from_viewers":false,
     "hide_output_from_viewers":false,
     "report_properties":{
      "rowId":"UglQao438FSFwEfaiwEJsS",
      "relativeY":0
     }
    }
   }
  },
  {
   "cell_type":"markdown",
   "source":[
    "## Have questions or need support?\n",
    "\n",
    "Our team would love to hear about your experience using Datalore. Feel free to share your feedback with us and report any issues you’ve run into via ***Help | Feedback & Support***.\n",
    "\n",
    "<div><img src=\"https:\/\/datalore-samples.s3.eu-west-1.amazonaws.com\/getting-started\/videos-2024\/Help.png\" width = 400 border=\"2\" style=\"border-color: #d3d3d3; margin-top: 1%;\"\/><\/div>"
   ],
   "attachments":{},
   "metadata":{
    "datalore":{
     "node_id":"taA28GYDW0xLrRVLmaFK0l",
     "type":"MD",
     "hide_input_from_viewers":false,
     "hide_output_from_viewers":false,
     "report_properties":{
      "rowId":"W9193iYJDtDSjFdrwZ0tf7",
      "relativeY":0
     }
    }
   }
  }
 ],
 "metadata":{
  "kernelspec":{
   "display_name":"Python",
   "language":"python",
   "name":"python"
  },
  "datalore":{
   "computation_mode":"JUPYTER",
   "package_manager":"pip",
   "base_environment":"default",
   "packages":[],
   "report_row_ids":[
    "xH9IjwIXFxPzaibcMBcLV0",
    "fioGgJgqPGdmSrtBwqzfQR",
    "qdURzLlvTdpLxBKfRjBgDN",
    "3gMacjrwieyvZzOrFfYiCF",
    "e07G7pMprpTzm7BNYjyATv",
    "5o14rD57UlzxXgm8V4wz0n",
    "ff8L9JIuGhBYquawhlNH9d",
    "hzSv6lfiYFyeKUalqyOLCX",
    "ucqaF0IQ9ZtkakrZlGipmN",
    "aNvhktBVRitRKE8mPFKmwr",
    "FjhGGO3EY6DUIQ44fzaCNg",
    "f9QgwA2948jISXSaN4ulwF",
    "4fAthp4OQPCbGrgZNysmu1",
    "D22xei2uF1LZCaT4hnnlyh",
    "Ipwa8Ap3BSWhbRhkUko98P",
    "tpRav58ElQQLWRhVNHAo6Y",
    "OXZyH4Zmf0qCn8CKqQHNM5",
    "sPl5PmrCzTzGQtlnOqwFUK",
    "8ihGahneo57tSM5hdImQKN",
    "sjHy7e81zQTSo2RnZz6n9z",
    "PNi7jFep3cveKS10HRvo7q",
    "wJgc9pYnamTrroABij4wXc",
    "GJJWeDoez0ffzdFiqY4wO2",
    "N6YkBs7ts8CL4ZlPyPadGg",
    "SyevwTm8ha3tRjbOgEKpih",
    "zgSBO4S5VaiRSDgOEQO32a",
    "aoxmlXq0kpB0Ru09ploZiG",
    "JJoHSqZ522c8IhNABAd1G9",
    "fGu534TWwAGbybjLJBs0y2",
    "idreHioIpxdAL5cRtRmm51",
    "UglQao438FSFwEfaiwEJsS",
    "W9193iYJDtDSjFdrwZ0tf7"
   ],
   "version":3
  }
 },
 "nbformat":4,
 "nbformat_minor":4
}